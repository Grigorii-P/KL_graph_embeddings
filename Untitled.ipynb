{
 "cells": [
  {
   "cell_type": "code",
   "execution_count": 1,
   "metadata": {},
   "outputs": [],
   "source": [
    "def FP_without_pua(y_pred, y_test):\n",
    "    fp = 0\n",
    "    for i in range(len(y_pred)):\n",
    "        if y_pred[i] == 2 and y_test[i] == 0:\n",
    "            fp += 1\n",
    "    return fp / len(y_pred)\n",
    "\n",
    "\n",
    "def FP_with_pua(y_pred, y_test):\n",
    "    fp = 0\n",
    "    for i in range(len(y_pred)):\n",
    "        if (y_pred[i] == 1 or y_pred[i] == 2) and y_test[i] == 0:\n",
    "            fp += 1\n",
    "    return fp / len(y_pred)"
   ]
  },
  {
   "cell_type": "code",
   "execution_count": 2,
   "metadata": {},
   "outputs": [],
   "source": [
    "import numpy as np"
   ]
  },
  {
   "cell_type": "code",
   "execution_count": 4,
   "metadata": {},
   "outputs": [
    {
     "data": {
      "text/plain": [
       "(0.3, 0.3)"
      ]
     },
     "execution_count": 4,
     "metadata": {},
     "output_type": "execute_result"
    }
   ],
   "source": [
    "pred = np.array([1,1,2,1,0,0,2,2,0,1])\n",
    "test = np.array([1,1,0,1,0,0,2,2,0,1])\n",
    "FP_without_pua(pred,test),FP_with_pua(pred,test)"
   ]
  },
  {
   "cell_type": "code",
   "execution_count": null,
   "metadata": {},
   "outputs": [],
   "source": []
  }
 ],
 "metadata": {
  "kernelspec": {
   "display_name": "Python 3",
   "language": "python",
   "name": "python3"
  },
  "language_info": {
   "codemirror_mode": {
    "name": "ipython",
    "version": 3
   },
   "file_extension": ".py",
   "mimetype": "text/x-python",
   "name": "python",
   "nbconvert_exporter": "python",
   "pygments_lexer": "ipython3",
   "version": "3.6.2"
  }
 },
 "nbformat": 4,
 "nbformat_minor": 2
}
