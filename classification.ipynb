{
 "cells": [
  {
   "cell_type": "code",
   "execution_count": 1,
   "metadata": {
    "collapsed": true
   },
   "outputs": [],
   "source": [
    "import numpy as np\n",
    "from time import time\n",
    "import ast\n",
    "import utils as lu\n",
    "import logging\n",
    "\n",
    "from sklearn.model_selection import train_test_split, GridSearchCV\n",
    "from sklearn.metrics import accuracy_score, classification_report\n",
    "from sklearn.svm import LinearSVC"
   ]
  },
  {
   "cell_type": "code",
   "execution_count": null,
   "metadata": {},
   "outputs": [],
   "source": [
    "def FP_without_pua(y_pred, y_test):\n",
    "    fp = 0\n",
    "    for i in range(len(y_pred)):\n",
    "        if y_pred[i] == 2 and y_test[i] == 0:\n",
    "            fp += 1\n",
    "    return fp / len(y_pred)\n",
    "\n",
    "\n",
    "def FP_with_pua(y_pred, y_test):\n",
    "    fp = 0\n",
    "    for i in range(len(y_pred)):\n",
    "        if (y_pred[i] == 1 or y_pred[i] == 2) and y_test[i] == 0:\n",
    "            fp += 1\n",
    "    return fp / len(y_pred)"
   ]
  },
  {
   "cell_type": "code",
   "execution_count": 2,
   "metadata": {},
   "outputs": [],
   "source": [
    "all_labels_file = 'all_labels.txt'\n",
    "embeddings = 'gexf_graphs_dims_300_epochs_30_lr_0.3_embeddings.txt'\n",
    "X, Y = lu.X_Y_from_embeddings(all_labels_file, embeddings)\n",
    "lu.test_proportions(Y)"
   ]
  },
  {
   "cell_type": "code",
   "execution_count": 17,
   "metadata": {},
   "outputs": [],
   "source": [
    "for handler in logging.root.handlers[:]:\n",
    "    logging.root.removeHandler(handler)\n",
    "log_path = '/home/pogorelov/work/classification_logs_and_results/svm_lin_not_equal_dim300.log'\n",
    "logging.basicConfig(filename=log_path, filemode=\"w\", level=logging.INFO)\n",
    "\n",
    "\n",
    "X_train, X_test, Y_train, Y_test = train_test_split(X, Y, test_size=0.25, random_state=12345)\n",
    "logging.info('Train and Test matrix shapes: {}, {}, {}, {} '.format(X_train.shape, X_test.shape,\n",
    "                                                                        Y_train.shape, Y_test.shape))\n",
    "\n",
    "logging.info('===================== SVM [linear, rbf, poly] =====================')\n",
    "params = [{'kernel':['linear'], 'C':[0.01,0.1,1, 10]},\n",
    "          {'kernel':['rbf'], 'gamma':[1e-4, 1e-3, 1e-2], 'C':[0.01,0.1,1, 10]},\n",
    "          {'kernel':['polynomial'], 'degree':[2, 3], 'coef0':[0, 1] 'C':[0.01,0.1,1, 10]}]\n",
    "\n",
    "classifier = GridSearchCV(SVC(), params, cv=5, scoring='accuracy',verbose=1)\n",
    "start = time()\n",
    "classifier.fit(X_train,Y_train)\n",
    "end = time()\n",
    "\n",
    "logging.info('fit time is %.1f min' % ((end-start)/60))\n",
    "logging.info('best classifier model\\'s hyperparamters', classifier.best_params_)\n",
    "\n",
    "Y_pred = classifier.predict(X_test)\n",
    "acc = accuracy_score(Y_test, Y_pred)\n",
    "\n",
    "logging.info('Linear SVM accuracy: {}'.format(acc))\n",
    "logging.info(classification_report(Y_test, Y_pred))\n",
    "logging.info('FPR without pua: {}'.format(FP_without_pua(Y_pred, Y_test)))\n",
    "logging.info('FPR with pua: {}'.format(FP_with_pua(Y_pred, Y_test)))\n",
    "np.savetxt('svm_lin_not_equal_dim300_pred.txt',Y_pred)\n",
    "np.savetxt('svm_lin_not_equal_dim300_test.txt',Y_test)\n",
    "logging.info('======================================================')\n",
    "\n",
    "\n",
    "\n",
    "logging.info('===================== k-NN =====================')\n",
    "params = [{'n_neighbors':[5, 7, 10]}]\n",
    "\n",
    "classifier = GridSearchCV(KNeighborsClassifier(), params, cv=5, scoring='accuracy', verbose=1)\n",
    "start = time()\n",
    "classifier.fit(X_train,Y_train)\n",
    "end = time()\n",
    "\n",
    "logging.info('fit time is %.1f min' % ((end-start)/60))\n",
    "logging.info('best classifier model\\'s hyperparamters', classifier.best_params_)\n",
    "\n",
    "Y_pred = classifier.predict(X_test)\n",
    "acc = accuracy_score(Y_test, Y_pred)\n",
    "\n",
    "logging.info('Linear SVM accuracy: {}'.format(acc))\n",
    "logging.info(classification_report(Y_test, Y_pred))\n",
    "logging.info('FPR without pua: {}'.format(FP_without_pua(Y_pred, Y_test)))\n",
    "logging.info('FPR with pua: {}'.format(FP_with_pua(Y_pred, Y_test)))\n",
    "np.savetxt('kNN_not_equal_dim300_pred.txt',Y_pred)\n",
    "np.savetxt('kNN_not_equal_dim300_test.txt',Y_test)\n",
    "logging.info('======================================================')\n"
   ]
  }
 ],
 "metadata": {
  "kernelspec": {
   "display_name": "Python 3",
   "language": "python",
   "name": "python3"
  },
  "language_info": {
   "codemirror_mode": {
    "name": "ipython",
    "version": 3
   },
   "file_extension": ".py",
   "mimetype": "text/x-python",
   "name": "python",
   "nbconvert_exporter": "python",
   "pygments_lexer": "ipython3",
   "version": "3.6.2"
  }
 },
 "nbformat": 4,
 "nbformat_minor": 2
}
