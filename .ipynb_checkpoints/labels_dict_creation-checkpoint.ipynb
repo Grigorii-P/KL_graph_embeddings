{
 "cells": [
  {
   "cell_type": "code",
   "execution_count": 1,
   "metadata": {},
   "outputs": [],
   "source": [
    "import joblib\n",
    "import os\n",
    "import networkx as nx\n",
    "from time import time\n",
    "import json\n",
    "import random\n",
    "from random import shuffle\n",
    "import pickle\n",
    "import sys"
   ]
  },
  {
   "cell_type": "code",
   "execution_count": 29,
   "metadata": {},
   "outputs": [],
   "source": [
    "def dict_of_unique_labels(graph_dict, count_subgraphs={}):\n",
    "    for key in graph_dict:\n",
    "        if type(graph_dict[key]) is dict:\n",
    "            dict_of_unique_labels(graph_dict[key], count_subgraphs)\n",
    "        else:\n",
    "            if graph_dict[key] not in count_subgraphs:\n",
    "                count_subgraphs[graph_dict[key]] = 1\n",
    "            else:\n",
    "                count_subgraphs[graph_dict[key]] += 1\n",
    "    return count_subgraphs\n",
    "\n",
    "def word_and_label(item, all_labels):\n",
    "    word = dict_of_unique_labels(item[1], {})\n",
    "    label = all_labels[item[0]]\n",
    "    return word, label\n",
    "\n",
    "def add_to_matrix(pca_matrix, count_subgraphs, sorted_vocab_list):\n",
    "    l = [0 for i in xrange(len(sorted_vocab_list))]\n",
    "    for key in count_subgraphs:\n",
    "        ind = sorted_vocab_list.index(key)\n",
    "        l[ind] = count_subgraphs[key]\n",
    "    pca_matrix.append(l)"
   ]
  },
  {
   "cell_type": "code",
   "execution_count": 38,
   "metadata": {},
   "outputs": [],
   "source": [
    "a = {u'AndroidManifest.xml': 'AXML_PLUS',\n",
    " u'abc': {u'assets': u'CERT_NORM',\n",
    "  u'CERT.SF': u'SIG_PLUS', u'asd':{'asd':'qwe'},\n",
    "  u'MANIFEST.MF': u'MANIF_PLUS'},\n",
    " u'assets': {u'AndroidManifest.xml': u'PNG_NORM',\n",
    "  u'assets': u'PNG_NORM'},\n",
    "    u'MANIFEST.MF': u'MANIF_PLUS'}\n",
    "b = {u'AndroidManifest.xml': 'AXML_PLUS', u'CERT.SF': u'PNG_NORM'}"
   ]
  },
  {
   "cell_type": "code",
   "execution_count": 42,
   "metadata": {},
   "outputs": [],
   "source": [
    "chunk = joblib.load('C:\\Users\\pogorelov_g\\Desktop\\work\\chunk_3.jbl')"
   ]
  },
  {
   "cell_type": "code",
   "execution_count": 46,
   "metadata": {},
   "outputs": [
    {
     "data": {
      "text/plain": [
       "({'AXML_NORM': 1,\n",
       "  u'BXML_MINUS': 35,\n",
       "  u'BXML_NORM': 99,\n",
       "  u'BXML_PLUS': 53,\n",
       "  u'CERT_NORM': 1,\n",
       "  u'DEX_PLUS': 1,\n",
       "  u'JPG_MINUS': 3,\n",
       "  u'JPG_NORM': 2,\n",
       "  u'MANIF_PLUS': 1,\n",
       "  u'PNG_MINUS': 89,\n",
       "  u'PNG_NORM': 271,\n",
       "  u'PNG_PLUS': 51,\n",
       "  u'RSC_PLUS': 1,\n",
       "  u'SIG_PLUS': 1,\n",
       "  u'UNKNOWN_SN_EN': 1},\n",
       " 0)"
      ]
     },
     "execution_count": 46,
     "metadata": {},
     "output_type": "execute_result"
    }
   ],
   "source": [
    "with open('all_labels.txt', 'r') as file:\n",
    "    all_labels = json.loads(file.read())\n",
    "word, lab = word_and_label(chunk[0],all_labels)\n",
    "word, lab"
   ]
  },
  {
   "cell_type": "code",
   "execution_count": 57,
   "metadata": {},
   "outputs": [
    {
     "data": {
      "text/plain": [
       "[[0,\n",
       "  0,\n",
       "  0,\n",
       "  0,\n",
       "  0,\n",
       "  0,\n",
       "  0,\n",
       "  0,\n",
       "  0,\n",
       "  0,\n",
       "  0,\n",
       "  0,\n",
       "  0,\n",
       "  0,\n",
       "  1,\n",
       "  0,\n",
       "  1,\n",
       "  0,\n",
       "  1,\n",
       "  0,\n",
       "  0,\n",
       "  1,\n",
       "  0,\n",
       "  0,\n",
       "  0,\n",
       "  0,\n",
       "  0,\n",
       "  0,\n",
       "  0,\n",
       "  0,\n",
       "  0,\n",
       "  0,\n",
       "  1,\n",
       "  0,\n",
       "  1,\n",
       "  0,\n",
       "  0,\n",
       "  0,\n",
       "  0,\n",
       "  3,\n",
       "  0,\n",
       "  0,\n",
       "  0,\n",
       "  0,\n",
       "  0,\n",
       "  0,\n",
       "  2,\n",
       "  0,\n",
       "  0,\n",
       "  0,\n",
       "  35,\n",
       "  53,\n",
       "  1,\n",
       "  51,\n",
       "  89,\n",
       "  99,\n",
       "  271]]"
      ]
     },
     "execution_count": 57,
     "metadata": {},
     "output_type": "execute_result"
    }
   ],
   "source": [
    "mat = []\n",
    "sort_vocab = sorted(d.items(), key=lambda x: x[1])\n",
    "sort_vocab = [x[0] for x in sort_vocab]\n",
    "\n",
    "add_to_matrix(mat, word, sort_vocab)\n",
    "mat"
   ]
  },
  {
   "cell_type": "code",
   "execution_count": 56,
   "metadata": {},
   "outputs": [
    {
     "data": {
      "text/plain": [
       "{1: 7, 2: 1, 3: 1, 35: 1, 51: 1, 53: 1, 89: 1, 99: 1, 271: 1}"
      ]
     },
     "execution_count": 56,
     "metadata": {},
     "output_type": "execute_result"
    }
   ],
   "source": [
    "c"
   ]
  },
  {
   "cell_type": "code",
   "execution_count": 53,
   "metadata": {},
   "outputs": [],
   "source": [
    "mat = []\n",
    "vocab = dict_of_unique_labels(a, {})\n",
    "sort_vocab = sorted(vocab.items(), key=lambda x: x[1])\n",
    "sort_vocab = [x[0] for x in sort_vocab]\n",
    "c = dict_of_unique_labels(b, {})\n",
    "\n",
    "add_to_matrix(mat, c, sort_vocab)"
   ]
  },
  {
   "cell_type": "code",
   "execution_count": 54,
   "metadata": {},
   "outputs": [
    {
     "data": {
      "text/plain": [
       "{'AXML_PLUS': 1, u'PNG_NORM': 1}"
      ]
     },
     "execution_count": 54,
     "metadata": {},
     "output_type": "execute_result"
    }
   ],
   "source": [
    "c"
   ]
  },
  {
   "cell_type": "code",
   "execution_count": 40,
   "metadata": {},
   "outputs": [
    {
     "data": {
      "text/plain": [
       "[[0, 0, 0, 1, 0, 1]]"
      ]
     },
     "execution_count": 40,
     "metadata": {},
     "output_type": "execute_result"
    }
   ],
   "source": [
    "mat"
   ]
  },
  {
   "cell_type": "code",
   "execution_count": 41,
   "metadata": {},
   "outputs": [
    {
     "data": {
      "text/plain": [
       "['qwe', u'SIG_PLUS', u'CERT_NORM', 'AXML_PLUS', u'MANIF_PLUS', u'PNG_NORM']"
      ]
     },
     "execution_count": 41,
     "metadata": {},
     "output_type": "execute_result"
    }
   ],
   "source": [
    "sort_vocab"
   ]
  },
  {
   "cell_type": "code",
   "execution_count": null,
   "metadata": {},
   "outputs": [],
   "source": []
  },
  {
   "cell_type": "code",
   "execution_count": 47,
   "metadata": {},
   "outputs": [],
   "source": [
    "with open('dict.txt', 'rb') as file:\n",
    "    d = pickle.load(file)"
   ]
  },
  {
   "cell_type": "code",
   "execution_count": null,
   "metadata": {},
   "outputs": [],
   "source": []
  }
 ],
 "metadata": {
  "kernelspec": {
   "display_name": "graph_creation",
   "language": "python",
   "name": "graph_creation"
  },
  "language_info": {
   "codemirror_mode": {
    "name": "ipython",
    "version": 2
   },
   "file_extension": ".py",
   "mimetype": "text/x-python",
   "name": "python",
   "nbconvert_exporter": "python",
   "pygments_lexer": "ipython2",
   "version": "2.7.15"
  }
 },
 "nbformat": 4,
 "nbformat_minor": 2
}
