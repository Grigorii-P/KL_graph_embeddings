{
 "cells": [
  {
   "cell_type": "code",
   "execution_count": 16,
   "metadata": {
    "collapsed": true
   },
   "outputs": [],
   "source": [
    "import joblib\n",
    "import os\n",
    "import networkx as nx\n",
    "from networkx.drawing.nx_agraph import graphviz_layout\n",
    "import numpy as np\n",
    "import matplotlib.pyplot as plt\n",
    "import matplotlib.colors as colors\n",
    "from scipy.stats import norm\n",
    "import time\n",
    "import ast\n",
    "from random import shuffle"
   ]
  },
  {
   "cell_type": "markdown",
   "metadata": {},
   "source": [
    "### Отрисовка графов"
   ]
  },
  {
   "cell_type": "code",
   "execution_count": null,
   "metadata": {
    "collapsed": true
   },
   "outputs": [],
   "source": [
    "nx.draw(G)"
   ]
  },
  {
   "cell_type": "markdown",
   "metadata": {},
   "source": [
    "[link for cell below](https://networkx.github.io/documentation/networkx-1.10/examples/drawing/index.html)"
   ]
  },
  {
   "cell_type": "code",
   "execution_count": 38,
   "metadata": {},
   "outputs": [
    {
     "data": {
      "text/plain": [
       "'axmlxml'"
      ]
     },
     "execution_count": 38,
     "metadata": {},
     "output_type": "execute_result"
    }
   ],
   "source": [
    "s = 'axmlxml'\n",
    "ss = s.split('.')\n",
    "if len(ss)>1:\n",
    "    before_dot = ''.join(ss[:len(ss)-1])\n",
    "else:\n",
    "    before_dot = ss[0]\n",
    "    \n",
    "before_dot"
   ]
  },
  {
   "cell_type": "code",
   "execution_count": null,
   "metadata": {
    "collapsed": true
   },
   "outputs": [],
   "source": [
    "G=nx.balanced_tree(3,5)\n",
    "pos=graphviz_layout(G,prog='twopi',args='')\n",
    "plt.figure(figsize=(8,8))\n",
    "nx.draw(G,pos,node_size=20,alpha=0.5,node_color=\"blue\", with_labels=False)\n",
    "plt.axis('equal')\n",
    "plt.savefig('circular_tree.png')\n",
    "plt.show()"
   ]
  },
  {
   "cell_type": "markdown",
   "metadata": {},
   "source": [
    "### Графики"
   ]
  },
  {
   "cell_type": "code",
   "execution_count": 19,
   "metadata": {
    "collapsed": true
   },
   "outputs": [],
   "source": [
    "# chunks_path = '/Users/grigoriipogorelov/Desktop/KL/data/'\n",
    "# chunk = joblib.load(chunks_path + 'chunk_5.jbl')"
   ]
  },
  {
   "cell_type": "code",
   "execution_count": 1,
   "metadata": {
    "collapsed": true,
    "scrolled": true
   },
   "outputs": [],
   "source": [
    "# for ch in chunk:\n",
    "#     if ch[0] == 'aa945772b101c01c5586b37db5f5915b':\n",
    "#         print(ch[1])\n",
    "#         non_unique_nodes = count_non_unique_names(ch[1], {})\n",
    "#         print()\n",
    "#         print()\n",
    "# #         for k, v in non_unique_nodes.items():\n",
    "# #             print(k+\"\\t\", v)\n",
    "#         if any(non_unique_nodes):\n",
    "#             graph_dict = change_non_unique_names(ch[1], non_unique_nodes, {})\n",
    "#         else:\n",
    "#             graph_dict = ch[1]\n",
    "#         print(graph_dict)\n",
    "#         non_unique_nodes_new = count_non_unique_names(graph_dict, {})\n",
    "#         print()\n",
    "#         print()\n",
    "#         if any(non_unique_nodes_new):\n",
    "#             for k, v in non_unique_nodes_new.items():\n",
    "#                 print(k+\"\\t\", v)\n",
    "#         else:\n",
    "#             print('все чикс энд пукс')"
   ]
  },
  {
   "cell_type": "code",
   "execution_count": 2,
   "metadata": {
    "collapsed": true
   },
   "outputs": [],
   "source": [
    "def count_and_unique(dict_, unique):\n",
    "    count = 0\n",
    "    uniques = unique\n",
    "    for key in dict_:\n",
    "        if key not in uniques:\n",
    "            uniques[key] = 0\n",
    "        else:\n",
    "            uniques[key] += 1  # TODO зачем вообще суммировать? можно и без этого обойтись\n",
    "        if type(dict_[key]) is dict:\n",
    "            c, u = count_and_unique(dict_[key], uniques)\n",
    "            count += 1 + c\n",
    "            uniques = u\n",
    "        else:\n",
    "            count += 1\n",
    "    return count, uniques\n",
    "\n",
    "\n",
    "sum_errs = 0\n",
    "errs = []\n",
    "av_num_of_elem = 0\n",
    "num_elems = []\n",
    "N_points = len(chunk)\n",
    "n_bins = 150\n",
    "\n",
    "for i, ch in enumerate(chunk):\n",
    "    non_unique_nodes = count_non_unique_names(ch[1], {})\n",
    "    if any(non_unique_nodes):\n",
    "        graph_dict = change_non_unique_names(ch[1], non_unique_nodes, {})\n",
    "    else:\n",
    "        graph_dict = ch[1]\n",
    "    \n",
    "    c, u = count_and_unique(graph_dict, {})\n",
    "    sum_errs += c - len(u.keys())\n",
    "    errs.append(c - len(u.keys()))\n",
    "    if c != len(u.keys()):\n",
    "        print(c - len(u.keys()), ch[0])\n",
    "    av_num_of_elem += c\n",
    "    num_elems.append(c)\n",
    "    \n",
    "\n",
    "# fig, ax = plt.subplots()\n",
    "# ax.set_xlabel('errs')\n",
    "# ax.set_ylabel('num_elems')\n",
    "# hist = ax.hist2d(errs, num_elems, range = [[0, 1500], [0, 3000]], bins=n_bins)\n",
    "\n",
    "\n",
    "# num_elems_sort = sorted(num_elems)\n",
    "# errs_sort = sorted(errs)\n",
    "\n",
    "# print('(%d, %d) - max and min num of files among all graphs' % (max(num_elems),min(num_elems)))\n",
    "# print('(%d, %d) - max and min num of NOT unique file names' % (max(errs), min(errs)))\n",
    "# print('{0:.0f} - average num of files'.format(av_num_of_elem/1000))\n",
    "# print('{0:.0f} - average num of NOT unique file names'.format(sum_errs/1000))\n",
    "# print('{} - median num of files'.format(num_elems_sort[int(len(num_elems_sort)/2)]))\n",
    "# print('{} - median num of NOT unique file names'.format(errs_sort[int(len(errs_sort)/2)]))\n",
    "\n",
    "\n",
    "\n",
    "\n",
    "\n",
    "fig, ax = plt.subplots()\n",
    "ax.set_title('num_elems')\n",
    "N, bins, patches  = ax.hist(num_elems, bins=n_bins)\n",
    "fracs = N / N.max()\n",
    "norm = colors.Normalize(fracs.min(), fracs.max())\n",
    "for thisfrac, thispatch in zip(fracs, patches):\n",
    "    color = plt.cm.viridis(norm(thisfrac))\n",
    "    thispatch.set_facecolor(color)\n",
    "    \n",
    "fig, ax = plt.subplots()\n",
    "ax.set_title('errs')\n",
    "N, bins, patches  = ax.hist(errs, bins=n_bins)\n",
    "fracs = N / N.max()\n",
    "norm = colors.Normalize(fracs.min(), fracs.max())\n",
    "for thisfrac, thispatch in zip(fracs, patches):\n",
    "    color = plt.cm.viridis(norm(thisfrac))\n",
    "    thispatch.set_facecolor(color)"
   ]
  },
  {
   "cell_type": "code",
   "execution_count": 44,
   "metadata": {
    "collapsed": true
   },
   "outputs": [],
   "source": [
    "# app = {'AndroidManifest.xml': 'AXML_PLUS',\n",
    "#          'META-INF': {'CERT.RSA': 'CERT_NORM',\n",
    "#           'CERT.SF': 'SIG_PLUS',\n",
    "#           'MANIFEST.MF': 'MANIF_PLUS'},\n",
    "#          'assets': {'AZU.R.E.2d.png': {'PNG_NORM':'xui','AZU.R.E.2d.png': 'xui'},\n",
    "#           'BLUE2d.png': {'c':'cc', 'a':'aa', 'GREEN2d.png':{'mm':'cc', 'META-INF':'fff'}},\n",
    "#           'CYAN2d.png': 'PNG_NORM',\n",
    "#           'GREEN2d.png': 'PNG_NORM'}}"
   ]
  },
  {
   "cell_type": "code",
   "execution_count": 112,
   "metadata": {
    "collapsed": true
   },
   "outputs": [],
   "source": [
    "# dir(nx)\n",
    "\n",
    "# g = nx.read_gexf('/Users/grigoriipogorelov/Desktop/KL/subgraph2vec:graph2vec/graph2vec_tf/data/kdd_datasets/mutag/0.gexf')\n",
    "# g_to_d = nx.to_dict_of_dicts(g)\n",
    "# g_to_d\n",
    "\n",
    "# g = nx.read_gexf('/Users/grigoriipogorelov/Downloads/celegans.gexf')\n",
    "# g_to_d = nx.to_dict_of_dicts(g)\n",
    "# # g_to_d = nx.to_dict_of_lists(g)\n",
    "# # g_to_d = nx.to_pandas_adjacency(g)\n",
    "# g_to_d\n",
    "\n",
    "# toy_d = {'a':{'c':'cc', 'a':'aa', 'm':'m'},'b':'bb', 'm':{'b':'bb', 'p':'pp'}}\n",
    "\n",
    "# app = {'AndroidManifest.xml': 'AXML_PLUS',\n",
    "#          'META-INF': {'CERT.RSA': 'CERT_NORM',\n",
    "#           'CERT.SF': 'SIG_PLUS',\n",
    "#           'MANIFEST.MF': 'MANIF_PLUS'},\n",
    "#          'assets': {'AZURE2d.png': 'PNG_NORM',\n",
    "#           'BLUE2d.png': {'c':'cc', 'a':'aa', 'm':'mm'},\n",
    "#           'CYAN2d.png': 'PNG_NORM',\n",
    "#           'GREEN2d.png': 'PNG_NORM'}}"
   ]
  },
  {
   "cell_type": "code",
   "execution_count": null,
   "metadata": {
    "collapsed": true
   },
   "outputs": [],
   "source": []
  }
 ],
 "metadata": {
  "kernelspec": {
   "display_name": "KL_graph_embeddings__graph2vec",
   "language": "python",
   "name": "kl_graph_embeddings__graph2vec"
  },
  "language_info": {
   "codemirror_mode": {
    "name": "ipython",
    "version": 3
   },
   "file_extension": ".py",
   "mimetype": "text/x-python",
   "name": "python",
   "nbconvert_exporter": "python",
   "pygments_lexer": "ipython3",
   "version": "3.6.3"
  }
 },
 "nbformat": 4,
 "nbformat_minor": 2
}
