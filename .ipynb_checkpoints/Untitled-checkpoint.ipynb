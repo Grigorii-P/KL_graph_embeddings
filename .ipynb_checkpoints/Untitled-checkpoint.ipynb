{
 "cells": [
  {
   "cell_type": "markdown",
   "metadata": {},
   "source": [
    "- строить не для 1000, а для 1млн малвар\n",
    "- __как соотносить уникальность графов, когда будешь применять SVM__\n",
    "- поставить как-то *pygraphiz*\n",
    "- сначала попробуем для случая, когда не меняем совпавшие полные имена файлов\n",
    "- может быть проблема с тем, что в .gexf файлах у объектов __*node*__ нет объектов __*attvalues*__"
   ]
  },
  {
   "cell_type": "code",
   "execution_count": 6,
   "metadata": {
    "collapsed": true
   },
   "outputs": [],
   "source": [
    "import joblib\n",
    "import os\n",
    "import networkx as nx\n",
    "from networkx.drawing.nx_agraph import graphviz_layout\n",
    "import numpy as np\n",
    "from numpy.random import uniform, binomial, triangular\n",
    "import matplotlib.pyplot as plt\n",
    "import matplotlib.colors as colors\n",
    "from scipy.stats import norm"
   ]
  },
  {
   "cell_type": "code",
   "execution_count": 2,
   "metadata": {
    "collapsed": true
   },
   "outputs": [],
   "source": [
    "def create_nodes_and_edges(G, dic, root):\n",
    "    for key in dic:\n",
    "        if type(dic[key]) is dict:\n",
    "            G.add_node(key, label=key)\n",
    "            G.add_edge(root, key)\n",
    "            G = create_nodes_and_edges(G, dic[key], key)\n",
    "        else:\n",
    "            G.add_node(key, label=dic[key])\n",
    "            G.add_edge(root, key)\n",
    "    return G"
   ]
  },
  {
   "cell_type": "code",
   "execution_count": 112,
   "metadata": {
    "collapsed": true
   },
   "outputs": [],
   "source": [
    "# dir(nx)\n",
    "\n",
    "# g = nx.read_gexf('/Users/grigoriipogorelov/Desktop/KL/subgraph2vec:graph2vec/graph2vec_tf/data/kdd_datasets/mutag/0.gexf')\n",
    "# g_to_d = nx.to_dict_of_dicts(g)\n",
    "# g_to_d\n",
    "\n",
    "# g = nx.read_gexf('/Users/grigoriipogorelov/Downloads/celegans.gexf')\n",
    "# g_to_d = nx.to_dict_of_dicts(g)\n",
    "# # g_to_d = nx.to_dict_of_lists(g)\n",
    "# # g_to_d = nx.to_pandas_adjacency(g)\n",
    "# g_to_d"
   ]
  },
  {
   "cell_type": "code",
   "execution_count": 9,
   "metadata": {},
   "outputs": [
    {
     "data": {
      "text/plain": [
       "str"
      ]
     },
     "execution_count": 9,
     "metadata": {},
     "output_type": "execute_result"
    }
   ],
   "source": [
    "directory = '/Users/grigoriipogorelov/Desktop/KL/graphs/gexf_from_chunks'\n",
    "for filename in os.listdir(directory):"
   ]
  },
  {
   "cell_type": "code",
   "execution_count": 3,
   "metadata": {
    "collapsed": true
   },
   "outputs": [],
   "source": [
    "chunks = joblib.load('/Users/grigoriipogorelov/Desktop/KL/graphs/data_reduced/chunk_0.jbl')\n",
    "# gexf = nx.Graph(chunk[0][1])\n",
    "# nx.write_gexf(gexf, \"/Users/grigoriipogorelov/Desktop/KL/graphs/chunk[0][1].gexf\")"
   ]
  },
  {
   "cell_type": "code",
   "execution_count": 6,
   "metadata": {
    "collapsed": true
   },
   "outputs": [],
   "source": [
    "chunk[0][1]"
   ]
  },
  {
   "cell_type": "code",
   "execution_count": 5,
   "metadata": {
    "collapsed": true
   },
   "outputs": [],
   "source": [
    "toy_d = {'a':{'c':'cc', 'a':'aa', 'm':'m'},'b':'bb', 'm':{'b':'bb', 'p':'pp'}}\n",
    "\n",
    "app = {'AndroidManifest.xml': 'AXML_PLUS',\n",
    "         'META-INF': {'CERT.RSA': 'CERT_NORM',\n",
    "          'CERT.SF': 'SIG_PLUS',\n",
    "          'MANIFEST.MF': 'MANIF_PLUS'},\n",
    "         'assets': {'AZURE2d.png': 'PNG_NORM',\n",
    "          'BLUE2d.png': {'c':'cc', 'a':'aa', 'm':'mm'},\n",
    "          'CYAN2d.png': 'PNG_NORM',\n",
    "          'GREEN2d.png': 'PNG_NORM'}}"
   ]
  },
  {
   "cell_type": "code",
   "execution_count": 4,
   "metadata": {},
   "outputs": [
    {
     "name": "stdout",
     "output_type": "stream",
     "text": [
      "iter 0 has passed!\n",
      "-------//-------\n",
      "iter 50 has passed!\n",
      "-------//-------\n",
      "iter 100 has passed!\n",
      "-------//-------\n",
      "iter 150 has passed!\n",
      "-------//-------\n",
      "iter 200 has passed!\n",
      "-------//-------\n",
      "iter 250 has passed!\n",
      "-------//-------\n",
      "iter 300 has passed!\n",
      "-------//-------\n",
      "iter 350 has passed!\n",
      "-------//-------\n",
      "iter 400 has passed!\n",
      "-------//-------\n",
      "iter 450 has passed!\n",
      "-------//-------\n",
      "iter 500 has passed!\n",
      "-------//-------\n",
      "iter 550 has passed!\n",
      "-------//-------\n",
      "iter 600 has passed!\n",
      "-------//-------\n",
      "iter 650 has passed!\n",
      "-------//-------\n",
      "iter 700 has passed!\n",
      "-------//-------\n",
      "iter 750 has passed!\n",
      "-------//-------\n",
      "iter 800 has passed!\n",
      "-------//-------\n",
      "iter 850 has passed!\n",
      "-------//-------\n",
      "iter 900 has passed!\n",
      "-------//-------\n",
      "iter 950 has passed!\n",
      "-------//-------\n"
     ]
    }
   ],
   "source": [
    "for i, chunk in enumerate(chunks):\n",
    "    G = nx.Graph()\n",
    "    G.add_node('APK_ROOT', label='APK_ROOT')\n",
    "    G = create_nodes_and_edges(G, chunk[1], 'APK_ROOT')\n",
    "    nx.write_gexf(G, '/Users/grigoriipogorelov/Desktop/KL/graphs/gexf_from_chunks/' + chunk[0] + '.gexf')\n",
    "    if i%1000 == 0:\n",
    "        print('iter %d has passed!' % i)\n",
    "        print('-------//-------')"
   ]
  },
  {
   "cell_type": "code",
   "execution_count": 11,
   "metadata": {
    "collapsed": true
   },
   "outputs": [],
   "source": [
    "G = nx.Graph()\n",
    "G.add_node('APK_ROOT', label='APK_ROOT')\n",
    "G = create_nodes_and_edges(G, chunk[0][1], 'APK_ROOT')\n",
    "nx.write_gexf(G, \"/Users/grigoriipogorelov/Desktop/KL/graphs/app.gexf\")"
   ]
  },
  {
   "cell_type": "code",
   "execution_count": null,
   "metadata": {
    "collapsed": true
   },
   "outputs": [],
   "source": []
  },
  {
   "cell_type": "markdown",
   "metadata": {},
   "source": [
    "### Отрисовка графов"
   ]
  },
  {
   "cell_type": "code",
   "execution_count": null,
   "metadata": {
    "collapsed": true
   },
   "outputs": [],
   "source": [
    "nx.draw(G)"
   ]
  },
  {
   "cell_type": "markdown",
   "metadata": {},
   "source": [
    "[link for cell below](https://networkx.github.io/documentation/networkx-1.10/examples/drawing/index.html)"
   ]
  },
  {
   "cell_type": "code",
   "execution_count": null,
   "metadata": {
    "collapsed": true
   },
   "outputs": [],
   "source": [
    "G=nx.balanced_tree(3,5)\n",
    "pos=graphviz_layout(G,prog='twopi',args='')\n",
    "plt.figure(figsize=(8,8))\n",
    "nx.draw(G,pos,node_size=20,alpha=0.5,node_color=\"blue\", with_labels=False)\n",
    "plt.axis('equal')\n",
    "plt.savefig('circular_tree.png')\n",
    "plt.show()"
   ]
  },
  {
   "cell_type": "markdown",
   "metadata": {},
   "source": [
    "### Графики"
   ]
  },
  {
   "cell_type": "code",
   "execution_count": 19,
   "metadata": {},
   "outputs": [
    {
     "name": "stdout",
     "output_type": "stream",
     "text": [
      "9580  max num of elems\n",
      "3967  max error\n",
      "6  min num of elems\n",
      "0  min error\n",
      "231.01  av num of NOT unique elems\n",
      "693.949  av num of elems\n"
     ]
    },
    {
     "data": {
      "image/png": "[encoded data removed]",
      "text/plain": [
       "<Figure size 432x288 with 1 Axes>"
      ]
     },
     "metadata": {},
     "output_type": "display_data"
    },
    {
     "data": {
      "image/png": "[encoded data removed]",
      "text/plain": [
       "<Figure size 432x288 with 1 Axes>"
      ]
     },
     "metadata": {},
     "output_type": "display_data"
    },
    {
     "data": {
      "image/png": "[encoded data removed]",
      "text/plain": [
       "<Figure size 432x288 with 1 Axes>"
      ]
     },
     "metadata": {},
     "output_type": "display_data"
    },
    {
     "data": {
      "image/png": "[encoded data removed]",
      "text/plain": [
       "<Figure size 432x288 with 1 Axes>"
      ]
     },
     "metadata": {},
     "output_type": "display_data"
    }
   ],
   "source": [
    "def count_and_unique(dict_, unique):\n",
    "    count = 0\n",
    "    uniques = unique\n",
    "    for key in dict_:\n",
    "        if key not in uniques:\n",
    "            uniques[key] = 0\n",
    "        else:\n",
    "            uniques[key] += 1  # зачем вообще суммировать? можно и без этого обойтись\n",
    "        if type(dict_[key]) is dict:\n",
    "            c, u = count_and_unique(dict_[key], uniques)\n",
    "            count += 1 + c\n",
    "            uniques = u\n",
    "        else:\n",
    "            count += 1\n",
    "    return count, uniques\n",
    "\n",
    "\n",
    "\n",
    "N_points = len(chunk)\n",
    "num_elems, errs = [], []\n",
    "max_c, max_u = 0, 0\n",
    "counts = {}\n",
    "\n",
    "for ch in chunk:\n",
    "    c, u = count_and_unique(ch[1], {})\n",
    "    u_len = len(u.keys())\n",
    "    num_not_unique = c - u_len\n",
    "    num_elems.append(c)\n",
    "    errs.append(num_not_unique)\n",
    "    if (c,num_not_unique) not in counts:\n",
    "        counts[(c,num_not_unique)] = 0\n",
    "    else:\n",
    "        counts[(c,num_not_unique)] += 1\n",
    "\n",
    "z = []\n",
    "for i in range(N_points):\n",
    "    z.append(counts[(num_elems[i],errs[i])])\n",
    "\n",
    "fig, ax = plt.subplots()\n",
    "ax.scatter(num_elems, errs, z)\n",
    "\n",
    "\n",
    "\n",
    "sum_errs = 0\n",
    "errs = []\n",
    "av_num_of_elem = 0\n",
    "num_elems = []\n",
    "N_points = len(chunk)\n",
    "n_bins = 10\n",
    "\n",
    "for ch in chunk:\n",
    "    c, u = count_and_unique(ch[1], {})\n",
    "    sum_errs += c - len(u.keys())\n",
    "    errs.append(c - len(u.keys()))\n",
    "    av_num_of_elem += c\n",
    "    num_elems.append(c)\n",
    "    \n",
    "# x = np.linspace(1, N_points, num=N)\n",
    "fig, ax = plt.subplots()\n",
    "ax.set_xlabel('errs')\n",
    "ax.set_ylabel('num_elems')\n",
    "hist = ax.hist2d(errs, num_elems, range = [[0, 1500], [0, 3000]], bins=n_bins)\n",
    "\n",
    "print(max(num_elems),' max num of elems')\n",
    "print(max(errs), ' max error')\n",
    "print(min(num_elems),' min num of elems')\n",
    "print(min(errs), ' min error')\n",
    "print(sum_errs/1000, ' av num of NOT unique elems')\n",
    "print(av_num_of_elem/1000, ' av num of elems')\n",
    "\n",
    "\n",
    "\n",
    "n_bins = 150\n",
    "\n",
    "fig, ax = plt.subplots()\n",
    "ax.set_title('num_elems')\n",
    "N, bins, patches  = ax.hist(num_elems, bins=n_bins)\n",
    "fracs = N / N.max()\n",
    "norm = colors.Normalize(fracs.min(), fracs.max())\n",
    "for thisfrac, thispatch in zip(fracs, patches):\n",
    "    color = plt.cm.viridis(norm(thisfrac))\n",
    "    thispatch.set_facecolor(color)\n",
    "    \n",
    "fig, ax = plt.subplots()\n",
    "ax.set_title('errs')\n",
    "N, bins, patches  = ax.hist(errs, bins=n_bins)\n",
    "fracs = N / N.max()\n",
    "norm = colors.Normalize(fracs.min(), fracs.max())\n",
    "for thisfrac, thispatch in zip(fracs, patches):\n",
    "    color = plt.cm.viridis(norm(thisfrac))\n",
    "    thispatch.set_facecolor(color)"
   ]
  },
  {
   "cell_type": "code",
   "execution_count": null,
   "metadata": {
    "collapsed": true
   },
   "outputs": [],
   "source": []
  }
 ],
 "metadata": {
  "kernelspec": {
   "display_name": "graph_experiments",
   "language": "python",
   "name": "graph_experiments"
  },
  "language_info": {
   "codemirror_mode": {
    "name": "ipython",
    "version": 3
   },
   "file_extension": ".py",
   "mimetype": "text/x-python",
   "name": "python",
   "nbconvert_exporter": "python",
   "pygments_lexer": "ipython3",
   "version": "3.6.3"
  }
 },
 "nbformat": 4,
 "nbformat_minor": 2
}
