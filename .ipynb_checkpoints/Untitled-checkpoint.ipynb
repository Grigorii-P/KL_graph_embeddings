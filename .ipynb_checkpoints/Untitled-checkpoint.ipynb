{
 "cells": [
  {
   "cell_type": "code",
   "execution_count": 1,
   "metadata": {},
   "outputs": [],
   "source": [
    "import pickle"
   ]
  },
  {
   "cell_type": "code",
   "execution_count": 2,
   "metadata": {},
   "outputs": [
    {
     "data": {
      "text/plain": [
       "20"
      ]
     },
     "execution_count": 2,
     "metadata": {},
     "output_type": "execute_result"
    }
   ],
   "source": [
    "with open('initial_relab_2.txt', 'rb') as file:\n",
    "    relab = pickle.load(file)\n",
    "len(relab)"
   ]
  },
  {
   "cell_type": "code",
   "execution_count": 47,
   "metadata": {},
   "outputs": [
    {
     "data": {
      "text/plain": [
       "{'BXML_MINUS': 19,\n",
       " 'BXML_NORM': 10,\n",
       " 'BXML_PLUS': 6,\n",
       " 'ELF_NORM': 7,\n",
       " 'JPG_MINUS': 18,\n",
       " 'JPG_NORM': 12,\n",
       " 'JPG_PLUS': 16,\n",
       " 'META-INF': 14,\n",
       " 'OGG_NORM': 13,\n",
       " 'PNG_MINUS': 17,\n",
       " 'PNG_NORM': 2,\n",
       " 'PNG_PLUS': 8,\n",
       " 'UNKNOWN_SM_EM': 1,\n",
       " 'UNKNOWN_SM_EN': 4,\n",
       " 'UNKNOWN_SN_EN': 5,\n",
       " 'UNKNOWN_SN_EP': 11,\n",
       " 'UNKNOWN_SP_EN': 15,\n",
       " 'UNKNOWN_SP_EP': 9,\n",
       " 'XML_NORM': 3}"
      ]
     },
     "execution_count": 47,
     "metadata": {},
     "output_type": "execute_result"
    }
   ],
   "source": [
    "relab"
   ]
  },
  {
   "cell_type": "code",
   "execution_count": 28,
   "metadata": {},
   "outputs": [
    {
     "data": {
      "text/plain": [
       "6"
      ]
     },
     "execution_count": 28,
     "metadata": {},
     "output_type": "execute_result"
    }
   ],
   "source": [
    "relab['PNG_PLUS']"
   ]
  },
  {
   "cell_type": "code",
   "execution_count": 30,
   "metadata": {},
   "outputs": [
    {
     "data": {
      "text/plain": [
       "277428"
      ]
     },
     "execution_count": 30,
     "metadata": {},
     "output_type": "execute_result"
    }
   ],
   "source": [
    "with open('dict.txt', 'rb') as file:\n",
    "    d = pickle.load(file)\n",
    "len(d)"
   ]
  },
  {
   "cell_type": "code",
   "execution_count": 21,
   "metadata": {},
   "outputs": [],
   "source": [
    "top_features = 20\n",
    "\n",
    "sort_relab = sorted(relab.items(), key=lambda x: x[1], reverse=True)\n",
    "sort_relab = [x[0] for x in sort_relab]\n",
    "sort_relab = sort_relab[:top_features]"
   ]
  },
  {
   "cell_type": "code",
   "execution_count": 31,
   "metadata": {},
   "outputs": [],
   "source": [
    "sort_d = sorted(d.items(), key=lambda x: x[1], reverse=True)\n",
    "sort_d = [x[0] for x in sort_d]\n",
    "sort_d = sort_d[:top_features]"
   ]
  },
  {
   "cell_type": "code",
   "execution_count": 36,
   "metadata": {},
   "outputs": [
    {
     "data": {
      "text/plain": [
       "0"
      ]
     },
     "execution_count": 36,
     "metadata": {},
     "output_type": "execute_result"
    }
   ],
   "source": [
    "l = ['a','b']\n",
    "l.index('a')"
   ]
  },
  {
   "cell_type": "code",
   "execution_count": 15,
   "metadata": {},
   "outputs": [
    {
     "name": "stderr",
     "output_type": "stream",
     "text": [
      "C:\\Users\\pogorelov_g\\Desktop\\work\\venv_py27\\lib\\site-packages\\ipykernel_launcher.py:3: UnicodeWarning: Unicode equal comparison failed to convert both arguments to Unicode - interpreting them as being unequal\n",
      "  This is separate from the ipykernel package so we can avoid doing imports until\n"
     ]
    },
    {
     "data": {
      "text/plain": [
       "101108"
      ]
     },
     "execution_count": 15,
     "metadata": {},
     "output_type": "execute_result"
    }
   ],
   "source": [
    "for key in d:\n",
    "    try:\n",
    "        del relab[key]\n",
    "    except KeyError:\n",
    "        try:\n",
    "            del relab[key.encode(\"utf-8\")]\n",
    "        except (KeyError,UnicodeDecodeError):\n",
    "            continue\n",
    "len(relab)"
   ]
  }
 ],
 "metadata": {
  "kernelspec": {
   "display_name": "Python 3",
   "language": "python",
   "name": "python3"
  },
  "language_info": {
   "codemirror_mode": {
    "name": "ipython",
    "version": 3
   },
   "file_extension": ".py",
   "mimetype": "text/x-python",
   "name": "python",
   "nbconvert_exporter": "python",
   "pygments_lexer": "ipython3",
   "version": "3.6.4"
  }
 },
 "nbformat": 4,
 "nbformat_minor": 2
}
