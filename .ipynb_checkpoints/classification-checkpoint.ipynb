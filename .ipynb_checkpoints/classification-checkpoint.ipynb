{
 "cells": [
  {
   "cell_type": "code",
   "execution_count": 1,
   "metadata": {
    "collapsed": true
   },
   "outputs": [],
   "source": [
    "import numpy as np\n",
    "from time import time\n",
    "import ast\n",
    "import label_utils as lu\n",
    "import logging\n",
    "\n",
    "from sklearn.model_selection import train_test_split, GridSearchCV\n",
    "from sklearn.metrics import accuracy_score, classification_report\n",
    "from sklearn.svm import LinearSVC"
   ]
  },
  {
   "cell_type": "code",
   "execution_count": null,
   "metadata": {},
   "outputs": [],
   "source": [
    "for handler in logging.root.handlers[:]:\n",
    "    logging.root.removeHandler(handler)\n",
    "log_path = '/home/pogorelov/work/svm.log'\n",
    "logging.basicConfig(filename=log_path, filemode=\"w\", level=logging.INFO)"
   ]
  },
  {
   "cell_type": "code",
   "execution_count": 2,
   "metadata": {},
   "outputs": [],
   "source": [
    "all_labels_file = 'all_labels.txt'\n",
    "embeddings = 'gexf_graphs_dims_300_epochs_30_lr_0.3_embeddings.txt'\n",
    "X, Y = lu.X_Y_from_embeddings(all_labels_file, embeddings)"
   ]
  },
  {
   "cell_type": "code",
   "execution_count": 7,
   "metadata": {},
   "outputs": [
    {
     "name": "stdout",
     "output_type": "stream",
     "text": [
      "clean 0.5, pua 0.3, malw 0.2\n"
     ]
    }
   ],
   "source": [
    "c0,c1,c2=0,0,0\n",
    "for item in Y:\n",
    "    if item == 0:\n",
    "        c0 += 1\n",
    "    if item == 1:\n",
    "        c1 += 1\n",
    "    if item == 2:\n",
    "        c2 += 1\n",
    "\n",
    "print('clean %.1f, pua %.1f, malw %.1f' % ((c0/(c0+c1+c2)), (c1/(c0+c1+c2)), (c2/(c0+c1+c2))))"
   ]
  },
  {
   "cell_type": "code",
   "execution_count": 17,
   "metadata": {},
   "outputs": [],
   "source": [
    "X_train, X_test, Y_train, Y_test = train_test_split(X, Y, test_size=0.2, random_state=12345)\n",
    "logging.info('Train and Test matrix shapes: {}, {}, {}, {} '.format(X_train.shape, X_test.shape,\n",
    "                                                                        Y_train.shape, Y_test.shape))\n",
    "# params = {'C':[0.01,0.1,1,10,100,1000]}\n",
    "# params = {'C':[0.01,0.1,1]}\n",
    "params = {'C':[0.1]}\n",
    "classifier = GridSearchCV(LinearSVC(), params, scoring='accuracy',verbose=1)\n",
    "start = time()\n",
    "classifier.fit(X_train,Y_train)\n",
    "end = time()\n",
    "logging.info('fit time is %.1f min' % ((end-start)/60))\n",
    "# logging.info('best classifier model\\'s hyperparamters', classifier.best_params_)\n",
    "\n",
    "Y_pred = classifier.predict(X_test)\n",
    "\n",
    "acc = accuracy_score(Y_test, Y_pred)\n",
    "logging.info('Linear SVM accuracy: {}'.format(acc))\n",
    "\n",
    "logging.info(classification_report(Y_test, Y_pred))"
   ]
  }
 ],
 "metadata": {
  "kernelspec": {
   "display_name": "Python 3",
   "language": "python",
   "name": "python3"
  },
  "language_info": {
   "codemirror_mode": {
    "name": "ipython",
    "version": 3
   },
   "file_extension": ".py",
   "mimetype": "text/x-python",
   "name": "python",
   "nbconvert_exporter": "python",
   "pygments_lexer": "ipython3",
   "version": "3.6.4"
  }
 },
 "nbformat": 4,
 "nbformat_minor": 2
}
