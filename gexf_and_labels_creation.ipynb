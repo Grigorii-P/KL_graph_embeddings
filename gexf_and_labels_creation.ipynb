{
 "cells": [
  {
   "cell_type": "markdown",
   "metadata": {},
   "source": [
    "## gexf graphs"
   ]
  },
  {
   "cell_type": "code",
   "execution_count": 1,
   "metadata": {},
   "outputs": [],
   "source": [
    "# for python 2.7\n",
    "import joblib\n",
    "import os\n",
    "import networkx as nx\n",
    "import time\n",
    "import ast\n",
    "from random import shuffle\n",
    "import pandas as pd"
   ]
  },
  {
   "cell_type": "code",
   "execution_count": null,
   "metadata": {
    "collapsed": true
   },
   "outputs": [],
   "source": [
    "def count_non_unique_names(dic, non_uniques={}):\n",
    "    for key in dic:\n",
    "        if key in non_uniques:\n",
    "                non_uniques[key] += 1\n",
    "        else:\n",
    "            non_uniques[key] = 0\n",
    "        if type(dic[key]) is dict:\n",
    "            count_non_unique_names(dic[key], non_uniques)\n",
    "    res = {}\n",
    "    for key in non_uniques:\n",
    "        if non_uniques[key] > 0:\n",
    "            res[key] = non_uniques[key]\n",
    "    return res\n",
    "\n",
    "def change_non_unique_names(dic, non_uniques, new_dic={}):\n",
    "    for key in dic:\n",
    "        if key in non_uniques:\n",
    "                split = key.split('.')\n",
    "                if len(split) > 1:\n",
    "                    before_dot = ''.join(split[:len(split)-1])\n",
    "                    new_key = before_dot + str(non_uniques[key]) + '.' + split[-1]\n",
    "                else:\n",
    "                    whole_name = split[0]\n",
    "                    new_key = whole_name + str(non_uniques[key])\n",
    "                non_uniques[key] -= 1\n",
    "        else:\n",
    "            new_key = key\n",
    "        \n",
    "        if type(dic[key]) is dict:\n",
    "            temp = change_non_unique_names(dic[key], non_uniques, {})\n",
    "            new_dic[new_key] = temp\n",
    "        else:\n",
    "            new_dic[new_key] = dic[key]\n",
    "    return new_dic  \n",
    "                        \n",
    "def create_nodes_and_edges(G, dic, root):\n",
    "    for key in dic:\n",
    "        if type(dic[key]) is dict:\n",
    "            G.add_node(key, label=key)\n",
    "            G.add_edge(root, key)\n",
    "            G = create_nodes_and_edges(G, dic[key], key)\n",
    "        else:\n",
    "            G.add_node(key, label=dic[key])\n",
    "            G.add_edge(root, key)\n",
    "    return G"
   ]
  },
  {
   "cell_type": "code",
   "execution_count": null,
   "metadata": {
    "collapsed": true
   },
   "outputs": [],
   "source": [
    "chunks_path = '/home/pogorelov/data/'\n",
    "path_to_save = '/home/pogorelov/gexf_graphs/'\n",
    "\n",
    "\n",
    "files = []\n",
    "files_count = 0\n",
    "portion = 0.1\n",
    "for filename in os.listdir(chunks_path):\n",
    "    files.append(filename)\n",
    "    files_count += 1\n",
    "shuffle(files)\n",
    "# num_chunks_to_read = int(float(files_count)*0.1)\n",
    "# files = files[:num_chunks_to_read]\n",
    "\n",
    "num_chunks_to_print = int(float(files_count)*portion)\n",
    "failed_jbls = {}\n",
    "count_jbl = 0\n",
    "start = time.time()\n",
    "for file_ in files:\n",
    "    try:\n",
    "        chunk = joblib.load(chunks_path + file_)\n",
    "        for i, item in enumerate(chunk):\n",
    "            non_unique_nodes = count_non_unique_names(item[1], {})\n",
    "            if any(non_unique_nodes):\n",
    "                graph_dict = change_non_unique_names(item[1], non_unique_nodes, {})\n",
    "            else:\n",
    "                graph_dict = item[1]\n",
    "            G = nx.Graph()\n",
    "            G.add_node('APK_ROOT', label='APK_ROOT')\n",
    "            G = create_nodes_and_edges(G, graph_dict, 'APK_ROOT')\n",
    "            nx.write_gexf(G, path_to_save + item[0] + '.gexf')\n",
    "        count_jbl += 1\n",
    "        if count_jbl % num_chunks_to_print == 0:\n",
    "            print('[%d] chunks are read' % count_jbl)\n",
    "    except (UnicodeDecodeError, ValueError, EOFError) as e:\n",
    "        print('%s jbl failed, error - %s' % (file_, e))\n",
    "        failed_jbls[file_] = e\n",
    "        print('in total %d failed jbls' % len(failed_jbls))\n",
    "\n",
    "end = time.time()\n",
    "    \n",
    "print('downloading and creating %d gexfs is %0.2f min' % (len(files), (end - start)/60))\n",
    "print()\n",
    "\n",
    "_,_,files = os.walk(path_to_save).next()\n",
    "print('%d files in ' + path_to_save % len(files))"
   ]
  },
  {
   "cell_type": "markdown",
   "metadata": {},
   "source": [
    "## Labels"
   ]
  },
  {
   "cell_type": "code",
   "execution_count": 3,
   "metadata": {},
   "outputs": [],
   "source": [
    "path_to_clean = '/Users/grigoriipogorelov/Desktop/KL/v7/clean_g.csv'\n",
    "path_to_malw = '/Users/grigoriipogorelov/Desktop/KL/v7/malw_g.csv'\n",
    "path_to_pua = '/Users/grigoriipogorelov/Desktop/KL/v7/pua_g.csv'\n",
    "\n",
    "clean_g = pd.read_csv(path_to_clean)\n",
    "malw_g = pd.read_csv(path_to_malw)\n",
    "pua_g = pd.read_csv(path_to_pua)\n",
    "\n",
    "clean_g_list = clean_g.iloc[:,-1].tolist()\n",
    "malw_g_list = malw_g.iloc[:,-1].tolist()\n",
    "pua_g_list = pua_g.iloc[:,-1].tolist()\n",
    "\n",
    "len(clean_g_list), len(malw_g_list), len(pua_g_list)"
   ]
  },
  {
   "cell_type": "code",
   "execution_count": null,
   "metadata": {
    "collapsed": true
   },
   "outputs": [],
   "source": [
    "del clean_g\n",
    "del malw_g\n",
    "del pua_g"
   ]
  },
  {
   "cell_type": "code",
   "execution_count": 7,
   "metadata": {},
   "outputs": [],
   "source": [
    "path_to_gexf = '/Users/grigoriipogorelov/Desktop/KL/gexf_graphs/'\n",
    "path_to_labels_file = '/Users/grigoriipogorelov/Desktop/KL/labels.Labels'\n",
    "\n",
    "_,_,files = os.walk(path_to_gexf).next()\n",
    "\n",
    "with open(path_to_labels_file, 'w') as f:\n",
    "    for file_ in files:\n",
    "        clean, malw, pua = False, False, False\n",
    "        count +=1\n",
    "        spl = file_.split('.')\n",
    "        name = spl[0]\n",
    "        if name in clean_g_list:\n",
    "            clean = True\n",
    "        if name in malw_g_list:\n",
    "            malw = True\n",
    "        if name in pua_g_list:\n",
    "            pua = True\n",
    "            \n",
    "        if clean and pua:\n",
    "            f.write(file_+' '+'2'+'\\n')\n",
    "            continue\n",
    "        if malw and pua:\n",
    "            f.write(file_+' '+'1'+'\\n')\n",
    "            continue\n",
    "        if clean:\n",
    "            f.write(file_+' '+'0'+'\\n')\n",
    "        if malw:\n",
    "            f.write(file_+' '+'1'+'\\n')\n",
    "        if pua:\n",
    "            f.write(file_+' '+'2'+'\\n')\n",
    "\n",
    "len(missed), len(files), count"
   ]
  },
  {
   "cell_type": "code",
   "execution_count": 17,
   "metadata": {},
   "outputs": [],
   "source": [
    "# check=[]\n",
    "# with open('/Users/grigoriipogorelov/Desktop/KL/labels.Labels') as f:\n",
    "#     check = f.readlines()\n",
    "# check = [x.strip() for x in check]\n",
    "# len(check)"
   ]
  },
  {
   "cell_type": "code",
   "execution_count": 3,
   "metadata": {},
   "outputs": [],
   "source": [
    "# with open('/Users/grigoriipogorelov/Desktop/KL/clean_g.txt') as f:\n",
    "#     clean_g_list = f.readlines()\n",
    "# clean_g_list = [x.strip() for x in clean_g_list]\n",
    "\n",
    "# with open('/Users/grigoriipogorelov/Desktop/KL/malw_g.txt') as f:\n",
    "#     malw_g_list = f.readlines()\n",
    "# malw_g_list = [x.strip() for x in malw_g_list]\n",
    "\n",
    "# with open('/Users/grigoriipogorelov/Desktop/KL/pua_g.txt') as f:\n",
    "#     pua_g_list = f.readlines()\n",
    "# pua_g_list = [x.strip() for x in pua_g_list]"
   ]
  }
 ],
 "metadata": {
  "kernelspec": {
   "display_name": "py27_learning_embeddings",
   "language": "python",
   "name": "py27_learning_embeddings"
  },
  "language_info": {
   "codemirror_mode": {
    "name": "ipython",
    "version": 2
   },
   "file_extension": ".py",
   "mimetype": "text/x-python",
   "name": "python",
   "nbconvert_exporter": "python",
   "pygments_lexer": "ipython2",
   "version": "2.7.10"
  }
 },
 "nbformat": 4,
 "nbformat_minor": 2
}
